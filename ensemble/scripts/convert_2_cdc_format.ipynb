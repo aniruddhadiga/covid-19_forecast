{
 "cells": [
  {
   "cell_type": "code",
   "execution_count": 1,
   "metadata": {},
   "outputs": [],
   "source": [
    "import sys, os\n",
    "import numpy as np\n",
    "import pandas as pd\n",
    "from geopandas import GeoDataFrame\n",
    "import geopandas as gpd\n",
    "from shapely.geometry import Point\n",
    "import matplotlib.pyplot as plt\n",
    "%matplotlib inline\n",
    "import seaborn as sns\n",
    "import pdb\n",
    "from joblib import Parallel, delayed\n",
    "import multiprocessing\n",
    "from scipy.stats import entropy\n",
    "from datetime import datetime, timedelta\n",
    "import epiweeks as epi\n",
    "from scipy.stats import pearsonr\n",
    "from scipy.signal import correlate\n",
    "import matplotlib\n",
    "from mpl_toolkits.axes_grid1 import make_axes_locatable\n",
    "from scipy.fftpack import fft, ifft\n",
    "from scipy.optimize import nnls\n",
    "import scipy.stats as stats\n",
    "from scipy.optimize import leastsq\n",
    "from scipy.signal import savgol_filter\n",
    "from collections import defaultdict\n",
    "import statsmodels.api as sm\n",
    "from tqdm import tqdm\n",
    "import matplotlib.dates as mdates\n",
    "from matplotlib.dates import DateFormatter"
   ]
  },
  {
   "cell_type": "code",
   "execution_count": 2,
   "metadata": {},
   "outputs": [
    {
     "data": {
      "text/plain": [
       "'2023-01-29_2023-02-04'"
      ]
     },
     "execution_count": 2,
     "metadata": {},
     "output_type": "execute_result"
    }
   ],
   "source": [
    "def get_week(date, weeks):\n",
    "    for week in weeks:\n",
    "        s,e = week.split('_')\n",
    "        if s <= date and date <= e:\n",
    "            return week\n",
    "\n",
    "fipsdf=pd.read_csv('../misc_data/US_fips_codes_names.csv')\n",
    "fipsdf['FIPS']=fipsdf.FIPS.apply(lambda x: '{:05}'.format(x))\n",
    "mapfips=dict(zip(fipsdf['FIPS'],fipsdf['County']+'_'+fipsdf['name']))\n",
    "mapname=dict(zip(fipsdf['County']+'_'+fipsdf['name'],fipsdf['FIPS']))\n",
    "dictfips=fipsdf[['FIPS','State_code']].rename(columns={'FIPS':'cnty'})\n",
    "dictfips['st_fips_code']=dictfips['cnty'].str[0:2]\n",
    "\n",
    "goog_dates=[]\n",
    "with open('input/goog_dates.txt','r') as f:\n",
    "    for line in f:\n",
    "        goog_dates.append(line[:-1])\n",
    "goog_dates\n",
    "stdt=goog_dates[-1].split('_')[0]\n",
    "for i in range(1,20):\n",
    "    dt0=(datetime.strptime(stdt,'%Y-%m-%d')+timedelta(weeks=i)).strftime('%Y-%m-%d')\n",
    "    dt1=(datetime.strptime(dt0,'%Y-%m-%d')+timedelta(days=6)).strftime('%Y-%m-%d')\n",
    "    goog_dates.append(dt0+'_'+dt1)\n",
    "\n",
    "sorted(goog_dates)[-1]"
   ]
  },
  {
   "cell_type": "code",
   "execution_count": 3,
   "metadata": {},
   "outputs": [],
   "source": [
    "file=\"https://raw.githubusercontent.com/CSSEGISandData/COVID-19/master/csse_covid_19_data/csse_covid_19_time_series/time_series_covid19_confirmed_US.csv\"\n",
    "df = pd.read_csv(file,header=0,dtype={'UID':str,'code3':str,'FIPS':str})\n",
    "df=df.dropna(subset=['FIPS'])\n",
    "df.loc[:,'FIPS']=df.FIPS.apply(lambda x : '{:05}'.format(int(float(x))))\n",
    "all_dict={}\n",
    "for st in df.Province_State:\n",
    "        all_dict[st]=dict(zip(df[df.Province_State==st]['FIPS'],df[df.Province_State==st]['Admin2']))\n",
    "df.drop(columns=['Country_Region','Lat','Long_','iso2','iso3','UID','code3','Admin2','Combined_Key','Province_State'],inplace=True)\n",
    "agg_df=df.dropna(subset=['FIPS'])\n",
    "agg_df.loc[:,'FIPS']=agg_df.FIPS.astype(float)\n",
    "agg_df.FIPS=agg_df.FIPS.apply(lambda x: '{:05}'.format(int(x)))\n",
    "# agg_df = df.groupby(['Province_State']).agg(np.sum)\n",
    "dates = agg_df.iloc[:,1:].columns.tolist()\n",
    "dates = [datetime.strptime(x, '%m/%d/%y') for x in dates]\n",
    "dates = [x.strftime('%Y-%m-%d') for x in dates]\n",
    "agg_df.iloc[:,1:].columns = dates\n",
    "for x in agg_df.iloc[:,1:].columns:\n",
    "    agg_df=agg_df.rename(columns={x:datetime.strptime(x, '%m/%d/%y').strftime('%Y-%m-%d')})\n",
    "# agg_df.loc[:,'admin_st']=agg_df.Admin2+'_'+agg_df.Province_State\n",
    "# agg_df=agg_df.drop(columns=['Admin2','Province_State'])\n",
    "agg_df=agg_df.set_index('FIPS')\n",
    "# dates = agg_df.columns\n",
    "agg_df.groupby((np.arange(len(agg_df.columns)) // 7) + 1, axis=1).sum().add_prefix('s')\n",
    "agg_df.columns = [get_week(x,goog_dates) for x in dates]\n",
    "agg_df = agg_df.groupby(agg_df.columns,axis=1).max()\n",
    "dates = agg_df.columns.values.tolist()\n",
    "new_df = agg_df.copy()\n",
    "for i in range(len(dates)):\n",
    "    d, prev_d = dates[i], dates[i-1]\n",
    "    new_df[d] = agg_df[d] - agg_df[prev_d]\n",
    "    \n",
    "covid_df = new_df.copy()\n",
    "covid_dates = dates\n",
    "\n",
    "# agg_df.index=agg_df.index.map(mapname)\n",
    "# agg_df=agg_df[agg_df.index.notna()]\n",
    "# new_df.index=new_df.index.map(mapname)\n",
    "# new_df=new_df[new_df.index.notna()]\n",
    "\n",
    "for col in agg_df.columns:\n",
    "    agg_df=agg_df.rename(columns={col:col.split('_')[0]})\n",
    "for col in new_df.columns:\n",
    "    new_df=new_df.rename(columns={col:col.split('_')[0]})\n",
    "    \n",
    "\n",
    "for col in new_df.columns:\n",
    "    new_df=new_df.rename(columns={col:datetime.strptime(col,'%Y-%m-%d').date()})\n",
    "\n",
    "diff_df=new_df.diff(axis=1).fillna(0)\n",
    "data_df=np.log(new_df.mask(new_df<=0)).fillna(0)#diff_df\n",
    "\n",
    "new_df[new_df<=0]=1\n",
    "\n",
    "for col in new_df.columns:\n",
    "    if col=='FIPS':\n",
    "        continue\n",
    "    else:\n",
    "        new_df=new_df.rename(columns={col:col.strftime('%Y-%m-%d')})\n",
    "newdf=new_df.reset_index()\n",
    "cols=new_df.columns\n",
    "mnewdf=pd.melt(newdf,id_vars=['FIPS'], value_vars=cols,\n",
    "        var_name='fct_date', value_name='true')\n",
    "mnewdf=mnewdf.rename(columns={'FIPS':'cnty'})"
   ]
  },
  {
   "cell_type": "code",
   "execution_count": null,
   "metadata": {},
   "outputs": [],
   "source": []
  },
  {
   "cell_type": "code",
   "execution_count": 4,
   "metadata": {},
   "outputs": [],
   "source": [
    "popdf=pd.read_csv('../misc_data1/countypops_2016.txt',sep=\" \", header=None, names=['cnty','pop'], dtype={'cnty':str})"
   ]
  },
  {
   "cell_type": "code",
   "execution_count": 5,
   "metadata": {},
   "outputs": [],
   "source": [
    "tempdf=pd.read_csv('output/alldates_allmethods_with_weights_2020-11-08_v3.csv')"
   ]
  },
  {
   "cell_type": "code",
   "execution_count": 6,
   "metadata": {},
   "outputs": [],
   "source": [
    "# tempdf=tempdf[tempdf.horizon>='2020-05-31']\n",
    "chdf=pd.read_csv('https://raw.githubusercontent.com/reichlab/covid19-forecast-hub/master/data-processed/COVIDhub-ensemble/2021-01-18-COVIDhub-ensemble.csv')\n",
    "locs=list(chdf.location.unique())"
   ]
  },
  {
   "cell_type": "code",
   "execution_count": 7,
   "metadata": {},
   "outputs": [],
   "source": [
    "hrzndt='2021-04-11'"
   ]
  },
  {
   "cell_type": "code",
   "execution_count": 8,
   "metadata": {},
   "outputs": [],
   "source": [
    "tdf=pd.read_csv('output/bma_all_methods_PatchSim_adpt-B117_{}.csv'.format(hrzndt))\n"
   ]
  },
  {
   "cell_type": "code",
   "execution_count": 9,
   "metadata": {},
   "outputs": [],
   "source": [
    "tdf.cnty=pd.to_numeric(tdf.cnty)\n",
    "tdf.cnty=tdf.cnty.apply(lambda x: '{:05}'.format(int(x)))\n",
    "tdf=tdf[tdf.method=='BMA-ensemble']\n",
    "tdf.loc[:,'fct_lb']=tdf.loc[:,'fct_mean']-1.96*tdf.loc[:,'fct_std']\n",
    "tdf.loc[:,'fct_ub']=tdf.loc[:,'fct_mean']+1.96*tdf.loc[:,'fct_std']"
   ]
  },
  {
   "cell_type": "code",
   "execution_count": 10,
   "metadata": {},
   "outputs": [],
   "source": [
    "col=['cnty', 'step_ahead', 'horizon', 'fct_date', 'fct_mean', 'fct_lb', 'fct_ub']"
   ]
  },
  {
   "cell_type": "code",
   "execution_count": 11,
   "metadata": {},
   "outputs": [],
   "source": [
    "infile='output/bma_all_methods_PatchSim_adpt-B117_{}.csv'.format(hrzndt)"
   ]
  },
  {
   "cell_type": "code",
   "execution_count": null,
   "metadata": {},
   "outputs": [],
   "source": []
  },
  {
   "cell_type": "code",
   "execution_count": 12,
   "metadata": {},
   "outputs": [
    {
     "name": "stdout",
     "output_type": "stream",
     "text": [
      "2021-04-19 0\n"
     ]
    }
   ],
   "source": [
    "locs=list(chdf.location.unique())\n",
    "ll=[]\n",
    "holieff=0\n",
    "for dt in [hrzndt]:#tempdf.horizon.unique():\n",
    "    sdt=(datetime.strptime(dt,'%Y-%m-%d')+timedelta(days=8)).strftime('%Y-%m-%d')\n",
    "#     try:\n",
    "    tdf=pd.read_csv(infile,dtype={'cnty':str})\n",
    "    tdf.cnty=pd.to_numeric(tdf.cnty)\n",
    "    tdf.cnty=tdf.cnty.apply(lambda x: '{:05}'.format(int(x)))\n",
    "    tdf=tdf[tdf.method=='BMA-ensemble']\n",
    "    tdf.loc[:,'fct_lb']=tdf.loc[:,'fct_mean']-1.96*tdf.loc[:,'fct_std']\n",
    "    tdf.loc[:,'fct_ub']=tdf.loc[:,'fct_mean']+1.96*tdf.loc[:,'fct_std']\n",
    "#     tdf[tdf.cnty!='US'].cnty=pd.to_numeric(tdf[tdf.cnty!='US'].cnty)\n",
    "#     tdf[tdf.cnty!='US'].cnty=tdf[tdf.cnty!='US'].cnty.apply(lambda x: '{:05}'.format(x))\n",
    "    tdf=tdf.merge(dictfips,on='cnty')\n",
    "    stdf=tdf.groupby(['State_code','st_fips_code','step_ahead','horizon','fct_date'],as_index=False).sum().rename(columns={'st_fips_code':'cnty'})\n",
    "    utdf=tdf.groupby(['step_ahead','horizon','fct_date'],as_index=False).sum()\n",
    "    utdf.loc[utdf.index,'cnty']='US'\n",
    "    tdf=tdf.append(stdf,ignore_index=True,sort=True)\n",
    "    tdf=tdf.append(utdf,ignore_index=True,sort=True)\n",
    "#     col=['cnty', 'step_ahead', 'horizon', 'fct_date', 'fct_mean', 'fct_lb', 'fct_ub']  \n",
    "    if holieff==1:\n",
    "        reddf=pd.read_csv('output/TG_reduction_factor_states.csv')\n",
    "        reddf['fct_date']=tdf[tdf.fct_date<'2020-12-25']['fct_date'].max()\n",
    "        reddf=reddf.merge(fipsdf[['FIPS','State_code']],on='State_code')\n",
    "        reddf=reddf.rename(columns={'FIPS':'cnty'})\n",
    "        tdf=tdf.merge(reddf,on=['cnty','fct_date','State_code'],how='left')\n",
    "        tdf.loc[:,'red_fac']=tdf['red_fac'].fillna(0)\n",
    "        tdf.loc[:,'fct_mean']=tdf['fct_mean']*(1-tdf['red_fac'])\n",
    "        tdf.loc[:,'fct_lb']=tdf['fct_lb']*(1-tdf['red_fac'])\n",
    "        tdf.loc[:,'fct_ub']=tdf['fct_ub']*(1-tdf['red_fac'])\n",
    "    ind=tdf[tdf['fct_lb']<0].index\n",
    "    tdf.loc[ind,'fct_lb']=0\n",
    "    fdf=tdf[col]\n",
    "    fdf=fdf.rename(columns={'b_fct_lb':'fct_lb','b_fct_ub':'fct_ub'})\n",
    "    fdf=fdf[fdf.cnty.isin(locs)]\n",
    "    fdf.loc[fdf['fct_lb']<=0,'fct_lb']=0\n",
    "    fdf.loc[fdf['fct_ub']<=0,'fct_ub']=0\n",
    "    fdf.loc[fdf.index,'fct_std']=(fdf['fct_ub']-fdf['fct_lb'])/3.96\n",
    "    print(sdt,len(fdf[fdf.fct_std<0]['cnty'].unique()))\n",
    "    fdf.to_csv('/project/biocomplexity/aniadiga/Forecasting/covid19_ensemble/output/ensemble/BMA/{}_BMA_ensemble.csv'.format(sdt),index=None)\n",
    "    ll.append(sdt)\n",
    "#     except:\n",
    "#         continue"
   ]
  },
  {
   "cell_type": "code",
   "execution_count": 13,
   "metadata": {},
   "outputs": [],
   "source": [
    "# with open('output/submission_date_list.txt','w') as f:\n",
    "#     for ll in dt_list:\n",
    "#         f.writelines('{}\\n'.format(ll))"
   ]
  },
  {
   "cell_type": "code",
   "execution_count": 14,
   "metadata": {},
   "outputs": [],
   "source": [
    "# # fname='/project/biocomplexity/aniadiga/Forecasting/covid19_ensemble/output/ensemble/BMA/2020-11-16_BMA_ensemble.csv'\n",
    "# %run quantile_conversion.py '/project/biocomplexity/aniadiga/Forecasting/covid19_ensemble/output/ensemble/BMA/2021-02-22_BMA_ensemble.csv' '2021-02-22' '/project/biocomplexity/aniadiga/Forecasting/covid19_ensemble/output/forecasthub/2021-02-22-UVA-Ensemble.csv'\n"
   ]
  },
  {
   "cell_type": "code",
   "execution_count": 15,
   "metadata": {},
   "outputs": [
    {
     "name": "stdout",
     "output_type": "stream",
     "text": [
      "2021-04-19\n"
     ]
    }
   ],
   "source": [
    "%%bash -s \"$sdt\"\n",
    "echo $1\n",
    "python quantile_conversion.py /project/biocomplexity/aniadiga/Forecasting/covid19_ensemble/output/ensemble/BMA/$1_BMA_ensemble.csv $1 /project/biocomplexity/aniadiga/Forecasting/covid19_ensemble/output/forecasthub/$1-UVA-Ensemble.csv\n"
   ]
  },
  {
   "cell_type": "code",
   "execution_count": 16,
   "metadata": {},
   "outputs": [
    {
     "name": "stdout",
     "output_type": "stream",
     "text": [
      "/project/biocomplexity/aniadiga/Forecasting/covid19_ensemble/output/forecasthub/2021-04-19-UVA-Ensemble.csv\n"
     ]
    }
   ],
   "source": [
    "%%bash -s \"$sdt\"\n",
    "ls /project/biocomplexity/aniadiga/Forecasting/covid19_ensemble/output/forecasthub/$1-UVA-Ensemble.csv"
   ]
  },
  {
   "cell_type": "code",
   "execution_count": 17,
   "metadata": {},
   "outputs": [],
   "source": [
    "df=pd.read_csv('/project/biocomplexity/aniadiga/Forecasting/covid19_ensemble/output/forecasthub/{}-UVA-Ensemble.csv'.format(sdt))"
   ]
  },
  {
   "cell_type": "code",
   "execution_count": 18,
   "metadata": {},
   "outputs": [],
   "source": [
    "popdf=pd.read_csv('/project/biocomplexity/aniadiga/covid19-forecast-hub/data-locations/locations.csv')\n",
    "df=df.merge(popdf,on='location',how='left')"
   ]
  },
  {
   "cell_type": "code",
   "execution_count": 19,
   "metadata": {},
   "outputs": [],
   "source": [
    "locs=df[(df.value>df.population)]['location'].unique()"
   ]
  },
  {
   "cell_type": "code",
   "execution_count": 20,
   "metadata": {},
   "outputs": [
    {
     "data": {
      "text/plain": [
       "array([], dtype=object)"
      ]
     },
     "execution_count": 20,
     "metadata": {},
     "output_type": "execute_result"
    }
   ],
   "source": [
    "locs"
   ]
  },
  {
   "cell_type": "code",
   "execution_count": 21,
   "metadata": {},
   "outputs": [
    {
     "data": {
      "text/html": [
       "<div>\n",
       "<style scoped>\n",
       "    .dataframe tbody tr th:only-of-type {\n",
       "        vertical-align: middle;\n",
       "    }\n",
       "\n",
       "    .dataframe tbody tr th {\n",
       "        vertical-align: top;\n",
       "    }\n",
       "\n",
       "    .dataframe thead th {\n",
       "        text-align: right;\n",
       "    }\n",
       "</style>\n",
       "<table border=\"1\" class=\"dataframe\">\n",
       "  <thead>\n",
       "    <tr style=\"text-align: right;\">\n",
       "      <th></th>\n",
       "      <th>forecast_date</th>\n",
       "      <th>target</th>\n",
       "      <th>target_end_date</th>\n",
       "      <th>location</th>\n",
       "      <th>type</th>\n",
       "      <th>quantile</th>\n",
       "      <th>value</th>\n",
       "      <th>abbreviation</th>\n",
       "      <th>location_name</th>\n",
       "      <th>population</th>\n",
       "    </tr>\n",
       "  </thead>\n",
       "  <tbody>\n",
       "  </tbody>\n",
       "</table>\n",
       "</div>"
      ],
      "text/plain": [
       "Empty DataFrame\n",
       "Columns: [forecast_date, target, target_end_date, location, type, quantile, value, abbreviation, location_name, population]\n",
       "Index: []"
      ]
     },
     "execution_count": 21,
     "metadata": {},
     "output_type": "execute_result"
    }
   ],
   "source": [
    "\n",
    "df[(df.location.isin(locs))]"
   ]
  },
  {
   "cell_type": "code",
   "execution_count": 22,
   "metadata": {},
   "outputs": [],
   "source": [
    "# df=df[['forecast_date', 'target', 'target_end_date', 'location', 'type',\n",
    "#        'quantile', 'value',]]\n",
    "# df.to_csv('/project/biocomplexity/aniadiga/Forecasting/covid19_ensemble/output/forecasthub/2020-12-28-UVA-Ensemble.csv',index=None)"
   ]
  },
  {
   "cell_type": "code",
   "execution_count": 23,
   "metadata": {},
   "outputs": [
    {
     "data": {
      "text/plain": [
       "True"
      ]
     },
     "execution_count": 23,
     "metadata": {},
     "output_type": "execute_result"
    }
   ],
   "source": [
    "# df=pd.read_csv('output/test.csv'\n",
    "(df[df.type=='quantile'].groupby(['location','target'],as_index=False)['value'].diff().fillna(0)>=0).all()"
   ]
  },
  {
   "cell_type": "code",
   "execution_count": 24,
   "metadata": {},
   "outputs": [
    {
     "data": {
      "text/plain": [
       "True"
      ]
     },
     "execution_count": 24,
     "metadata": {},
     "output_type": "execute_result"
    }
   ],
   "source": [
    "(df.value<df.population).all()"
   ]
  },
  {
   "cell_type": "code",
   "execution_count": 31,
   "metadata": {},
   "outputs": [],
   "source": [
    "# l1=[]\n",
    "# for loc in df.location.unique():\n",
    "#     for stp in df.target.unique():\n",
    "#         if not (df[(df.location==loc)&(df.type=='quantile')&(df.target==stp)]['value'].diff().fillna(0)>=0).all():\n",
    "#             l1.append(loc)"
   ]
  },
  {
   "cell_type": "code",
   "execution_count": 15,
   "metadata": {},
   "outputs": [
    {
     "name": "stdout",
     "output_type": "stream",
     "text": [
      "2020-10-26-UVA-Ensemble.csv True\n",
      "2020-10-12-UVA-Ensemble.csv True\n",
      "2020-11-16-UVA-Ensemble.csv True\n",
      "2020-07-06-UVA-Ensemble.csv True\n",
      "2020-11-23-UVA-Ensemble.csv True\n",
      "2020-08-03-UVA-Ensemble.csv True\n",
      "2020-12-07-UVA-Ensemble.csv True\n",
      "2020-08-31-UVA-Ensemble.csv True\n",
      "2020-09-21-UVA-Ensemble.csv True\n",
      "2020-06-08-UVA-Ensemble.csv True\n",
      "2020-08-24-UVA-Ensemble.csv True\n",
      "2020-11-30-UVA-Ensemble.csv True\n",
      "2020-11-09-UVA-Ensemble.csv True\n",
      "2020-07-20-UVA-Ensemble.csv True\n",
      "2020-11-02-UVA-Ensemble.csv True\n",
      "2020-08-10-UVA-Ensemble.csv True\n",
      "2020-09-28-UVA-Ensemble.csv True\n",
      "2020-10-19-UVA-Ensemble.csv True\n",
      "2020-09-07-UVA-Ensemble.csv True\n",
      "2020-06-15-UVA-Ensemble.csv True\n",
      "2020-07-27-UVA-Ensemble.csv True\n",
      "2020-08-17-UVA-Ensemble.csv True\n",
      "2020-07-13-UVA-Ensemble.csv True\n",
      "2020-06-22-UVA-Ensemble.csv True\n",
      "2020-06-29-UVA-Ensemble.csv True\n",
      "2020-09-14-UVA-Ensemble.csv True\n",
      "2020-10-05-UVA-Ensemble.csv True\n"
     ]
    }
   ],
   "source": [
    "outdir='/project/biocomplexity/aniadiga/Forecasting/covid19_ensemble/output/forecasthub/'\n",
    "for fl in os.listdir(outdir):\n",
    "    df=pd.read_csv(outdir+fl)\n",
    "    temp=(df[df.type=='quantile'].groupby(['location','target'],as_index=False)['value'].diff().fillna(0)>=0).all()\n",
    "    print(fl,temp)"
   ]
  },
  {
   "cell_type": "code",
   "execution_count": 50,
   "metadata": {},
   "outputs": [],
   "source": [
    "df=pd.read_csv('output/BMA_gl_{}.csv'.format(hrzndt))"
   ]
  },
  {
   "cell_type": "code",
   "execution_count": 53,
   "metadata": {},
   "outputs": [
    {
     "data": {
      "text/plain": [
       "array(['BMA-ensemble'], dtype=object)"
      ]
     },
     "execution_count": 53,
     "metadata": {},
     "output_type": "execute_result"
    }
   ],
   "source": [
    "df.method.unique()"
   ]
  },
  {
   "cell_type": "code",
   "execution_count": 54,
   "metadata": {},
   "outputs": [
    {
     "name": "stdout",
     "output_type": "stream",
     "text": [
      "2021-04-19\n"
     ]
    }
   ],
   "source": [
    "%%bash -s \"$sdt\" \"$hrzndt\"\n",
    "echo $1\n",
    "python gl_quantile_conversion.py output/BMA_gl_$2.csv $1 output/$1-UVA-Ensemble.csv\n"
   ]
  },
  {
   "cell_type": "code",
   "execution_count": 55,
   "metadata": {},
   "outputs": [
    {
     "name": "stdout",
     "output_type": "stream",
     "text": [
      "2021-04-19\n",
      "output/2021-04-19-UVA-Ensemble.csv\n"
     ]
    }
   ],
   "source": [
    "%%bash -s \"$sdt\"\n",
    "echo $1\n",
    "ls output/$1-UVA-Ensemble.csv\n"
   ]
  },
  {
   "cell_type": "code",
   "execution_count": 56,
   "metadata": {},
   "outputs": [],
   "source": [
    "df=pd.read_csv('output/{}-UVA-Ensemble.csv'.format(sdt))"
   ]
  },
  {
   "cell_type": "code",
   "execution_count": 57,
   "metadata": {},
   "outputs": [],
   "source": [
    "# df['diff_val']=df[(df.location.isin(['DE','PL','GB']))&(df.type=='quantile')].groupby(['location','target','target_end_date'],as_index=False)[['value']].diff()"
   ]
  },
  {
   "cell_type": "code",
   "execution_count": 60,
   "metadata": {},
   "outputs": [],
   "source": [
    "# df=df[~df[['forecast_date', 'target', 'target_end_date', 'location', 'type','quantile']].duplicated()]"
   ]
  },
  {
   "cell_type": "code",
   "execution_count": 61,
   "metadata": {},
   "outputs": [
    {
     "data": {
      "text/plain": [
       "True"
      ]
     },
     "execution_count": 61,
     "metadata": {},
     "output_type": "execute_result"
    }
   ],
   "source": [
    "(df[df.type=='quantile'].groupby(['location','target'],as_index=False)['value'].diff().fillna(0)>=0).all()"
   ]
  },
  {
   "cell_type": "code",
   "execution_count": 34,
   "metadata": {},
   "outputs": [],
   "source": [
    "df.to_csv('output/{}-UVA-Ensemble.csv'.format(sdt),index=None)"
   ]
  },
  {
   "cell_type": "code",
   "execution_count": 47,
   "metadata": {},
   "outputs": [],
   "source": [
    "# ind=\n",
    "df['diff_val']=(df[df.type=='quantile'].groupby(['location','target'],as_index=False)[['value']].diff().fillna(0))\n"
   ]
  },
  {
   "cell_type": "code",
   "execution_count": 35,
   "metadata": {},
   "outputs": [
    {
     "data": {
      "text/html": [
       "<div>\n",
       "<style scoped>\n",
       "    .dataframe tbody tr th:only-of-type {\n",
       "        vertical-align: middle;\n",
       "    }\n",
       "\n",
       "    .dataframe tbody tr th {\n",
       "        vertical-align: top;\n",
       "    }\n",
       "\n",
       "    .dataframe thead th {\n",
       "        text-align: right;\n",
       "    }\n",
       "</style>\n",
       "<table border=\"1\" class=\"dataframe\">\n",
       "  <thead>\n",
       "    <tr style=\"text-align: right;\">\n",
       "      <th></th>\n",
       "      <th>forecast_date</th>\n",
       "      <th>target</th>\n",
       "      <th>target_end_date</th>\n",
       "      <th>location</th>\n",
       "      <th>type</th>\n",
       "      <th>quantile</th>\n",
       "      <th>value</th>\n",
       "    </tr>\n",
       "  </thead>\n",
       "  <tbody>\n",
       "    <tr>\n",
       "      <th>0</th>\n",
       "      <td>2021-04-19</td>\n",
       "      <td>1 wk ahead inc case</td>\n",
       "      <td>2021-04-24</td>\n",
       "      <td>AT</td>\n",
       "      <td>point</td>\n",
       "      <td>NaN</td>\n",
       "      <td>22708.147121</td>\n",
       "    </tr>\n",
       "    <tr>\n",
       "      <th>1</th>\n",
       "      <td>2021-04-19</td>\n",
       "      <td>1 wk ahead inc case</td>\n",
       "      <td>2021-04-24</td>\n",
       "      <td>AT</td>\n",
       "      <td>quantile</td>\n",
       "      <td>0.025</td>\n",
       "      <td>15719.688409</td>\n",
       "    </tr>\n",
       "    <tr>\n",
       "      <th>2</th>\n",
       "      <td>2021-04-19</td>\n",
       "      <td>1 wk ahead inc case</td>\n",
       "      <td>2021-04-24</td>\n",
       "      <td>AT</td>\n",
       "      <td>quantile</td>\n",
       "      <td>0.100</td>\n",
       "      <td>18138.639582</td>\n",
       "    </tr>\n",
       "    <tr>\n",
       "      <th>3</th>\n",
       "      <td>2021-04-19</td>\n",
       "      <td>1 wk ahead inc case</td>\n",
       "      <td>2021-04-24</td>\n",
       "      <td>AT</td>\n",
       "      <td>quantile</td>\n",
       "      <td>0.250</td>\n",
       "      <td>20303.182638</td>\n",
       "    </tr>\n",
       "    <tr>\n",
       "      <th>4</th>\n",
       "      <td>2021-04-19</td>\n",
       "      <td>1 wk ahead inc case</td>\n",
       "      <td>2021-04-24</td>\n",
       "      <td>AT</td>\n",
       "      <td>quantile</td>\n",
       "      <td>0.500</td>\n",
       "      <td>22708.147121</td>\n",
       "    </tr>\n",
       "    <tr>\n",
       "      <th>5</th>\n",
       "      <td>2021-04-19</td>\n",
       "      <td>1 wk ahead inc case</td>\n",
       "      <td>2021-04-24</td>\n",
       "      <td>AT</td>\n",
       "      <td>quantile</td>\n",
       "      <td>0.750</td>\n",
       "      <td>25113.111604</td>\n",
       "    </tr>\n",
       "    <tr>\n",
       "      <th>6</th>\n",
       "      <td>2021-04-19</td>\n",
       "      <td>1 wk ahead inc case</td>\n",
       "      <td>2021-04-24</td>\n",
       "      <td>AT</td>\n",
       "      <td>quantile</td>\n",
       "      <td>0.900</td>\n",
       "      <td>27277.654660</td>\n",
       "    </tr>\n",
       "    <tr>\n",
       "      <th>7</th>\n",
       "      <td>2021-04-19</td>\n",
       "      <td>1 wk ahead inc case</td>\n",
       "      <td>2021-04-24</td>\n",
       "      <td>AT</td>\n",
       "      <td>quantile</td>\n",
       "      <td>0.975</td>\n",
       "      <td>29696.605834</td>\n",
       "    </tr>\n",
       "    <tr>\n",
       "      <th>8</th>\n",
       "      <td>2021-04-19</td>\n",
       "      <td>1 wk ahead inc case</td>\n",
       "      <td>2021-04-24</td>\n",
       "      <td>BE</td>\n",
       "      <td>point</td>\n",
       "      <td>NaN</td>\n",
       "      <td>18747.944448</td>\n",
       "    </tr>\n",
       "    <tr>\n",
       "      <th>9</th>\n",
       "      <td>2021-04-19</td>\n",
       "      <td>1 wk ahead inc case</td>\n",
       "      <td>2021-04-24</td>\n",
       "      <td>BE</td>\n",
       "      <td>quantile</td>\n",
       "      <td>0.025</td>\n",
       "      <td>18379.731836</td>\n",
       "    </tr>\n",
       "    <tr>\n",
       "      <th>10</th>\n",
       "      <td>2021-04-19</td>\n",
       "      <td>1 wk ahead inc case</td>\n",
       "      <td>2021-04-24</td>\n",
       "      <td>BE</td>\n",
       "      <td>quantile</td>\n",
       "      <td>0.100</td>\n",
       "      <td>18507.183162</td>\n",
       "    </tr>\n",
       "    <tr>\n",
       "      <th>11</th>\n",
       "      <td>2021-04-19</td>\n",
       "      <td>1 wk ahead inc case</td>\n",
       "      <td>2021-04-24</td>\n",
       "      <td>BE</td>\n",
       "      <td>quantile</td>\n",
       "      <td>0.250</td>\n",
       "      <td>18621.230062</td>\n",
       "    </tr>\n",
       "    <tr>\n",
       "      <th>12</th>\n",
       "      <td>2021-04-19</td>\n",
       "      <td>1 wk ahead inc case</td>\n",
       "      <td>2021-04-24</td>\n",
       "      <td>BE</td>\n",
       "      <td>quantile</td>\n",
       "      <td>0.500</td>\n",
       "      <td>18747.944448</td>\n",
       "    </tr>\n",
       "    <tr>\n",
       "      <th>13</th>\n",
       "      <td>2021-04-19</td>\n",
       "      <td>1 wk ahead inc case</td>\n",
       "      <td>2021-04-24</td>\n",
       "      <td>BE</td>\n",
       "      <td>quantile</td>\n",
       "      <td>0.750</td>\n",
       "      <td>18874.658833</td>\n",
       "    </tr>\n",
       "    <tr>\n",
       "      <th>14</th>\n",
       "      <td>2021-04-19</td>\n",
       "      <td>1 wk ahead inc case</td>\n",
       "      <td>2021-04-24</td>\n",
       "      <td>BE</td>\n",
       "      <td>quantile</td>\n",
       "      <td>0.900</td>\n",
       "      <td>18988.705733</td>\n",
       "    </tr>\n",
       "    <tr>\n",
       "      <th>15</th>\n",
       "      <td>2021-04-19</td>\n",
       "      <td>1 wk ahead inc case</td>\n",
       "      <td>2021-04-24</td>\n",
       "      <td>BE</td>\n",
       "      <td>quantile</td>\n",
       "      <td>0.975</td>\n",
       "      <td>19116.157060</td>\n",
       "    </tr>\n",
       "    <tr>\n",
       "      <th>16</th>\n",
       "      <td>2021-04-19</td>\n",
       "      <td>1 wk ahead inc case</td>\n",
       "      <td>2021-04-24</td>\n",
       "      <td>BG</td>\n",
       "      <td>point</td>\n",
       "      <td>NaN</td>\n",
       "      <td>25104.474832</td>\n",
       "    </tr>\n",
       "    <tr>\n",
       "      <th>17</th>\n",
       "      <td>2021-04-19</td>\n",
       "      <td>1 wk ahead inc case</td>\n",
       "      <td>2021-04-24</td>\n",
       "      <td>BG</td>\n",
       "      <td>quantile</td>\n",
       "      <td>0.025</td>\n",
       "      <td>21069.109955</td>\n",
       "    </tr>\n",
       "    <tr>\n",
       "      <th>18</th>\n",
       "      <td>2021-04-19</td>\n",
       "      <td>1 wk ahead inc case</td>\n",
       "      <td>2021-04-24</td>\n",
       "      <td>BG</td>\n",
       "      <td>quantile</td>\n",
       "      <td>0.100</td>\n",
       "      <td>22465.891564</td>\n",
       "    </tr>\n",
       "    <tr>\n",
       "      <th>19</th>\n",
       "      <td>2021-04-19</td>\n",
       "      <td>1 wk ahead inc case</td>\n",
       "      <td>2021-04-24</td>\n",
       "      <td>BG</td>\n",
       "      <td>quantile</td>\n",
       "      <td>0.250</td>\n",
       "      <td>23715.769596</td>\n",
       "    </tr>\n",
       "    <tr>\n",
       "      <th>20</th>\n",
       "      <td>2021-04-19</td>\n",
       "      <td>1 wk ahead inc case</td>\n",
       "      <td>2021-04-24</td>\n",
       "      <td>BG</td>\n",
       "      <td>quantile</td>\n",
       "      <td>0.500</td>\n",
       "      <td>25104.474832</td>\n",
       "    </tr>\n",
       "    <tr>\n",
       "      <th>21</th>\n",
       "      <td>2021-04-19</td>\n",
       "      <td>1 wk ahead inc case</td>\n",
       "      <td>2021-04-24</td>\n",
       "      <td>BG</td>\n",
       "      <td>quantile</td>\n",
       "      <td>0.750</td>\n",
       "      <td>26493.180067</td>\n",
       "    </tr>\n",
       "    <tr>\n",
       "      <th>22</th>\n",
       "      <td>2021-04-19</td>\n",
       "      <td>1 wk ahead inc case</td>\n",
       "      <td>2021-04-24</td>\n",
       "      <td>BG</td>\n",
       "      <td>quantile</td>\n",
       "      <td>0.900</td>\n",
       "      <td>27743.058099</td>\n",
       "    </tr>\n",
       "    <tr>\n",
       "      <th>23</th>\n",
       "      <td>2021-04-19</td>\n",
       "      <td>1 wk ahead inc case</td>\n",
       "      <td>2021-04-24</td>\n",
       "      <td>BG</td>\n",
       "      <td>quantile</td>\n",
       "      <td>0.975</td>\n",
       "      <td>29139.839708</td>\n",
       "    </tr>\n",
       "    <tr>\n",
       "      <th>24</th>\n",
       "      <td>2021-04-19</td>\n",
       "      <td>1 wk ahead inc case</td>\n",
       "      <td>2021-04-24</td>\n",
       "      <td>CH</td>\n",
       "      <td>point</td>\n",
       "      <td>NaN</td>\n",
       "      <td>8722.640537</td>\n",
       "    </tr>\n",
       "    <tr>\n",
       "      <th>25</th>\n",
       "      <td>2021-04-19</td>\n",
       "      <td>1 wk ahead inc case</td>\n",
       "      <td>2021-04-24</td>\n",
       "      <td>CH</td>\n",
       "      <td>quantile</td>\n",
       "      <td>0.025</td>\n",
       "      <td>8557.368482</td>\n",
       "    </tr>\n",
       "    <tr>\n",
       "      <th>26</th>\n",
       "      <td>2021-04-19</td>\n",
       "      <td>1 wk ahead inc case</td>\n",
       "      <td>2021-04-24</td>\n",
       "      <td>CH</td>\n",
       "      <td>quantile</td>\n",
       "      <td>0.100</td>\n",
       "      <td>8614.574949</td>\n",
       "    </tr>\n",
       "    <tr>\n",
       "      <th>27</th>\n",
       "      <td>2021-04-19</td>\n",
       "      <td>1 wk ahead inc case</td>\n",
       "      <td>2021-04-24</td>\n",
       "      <td>CH</td>\n",
       "      <td>quantile</td>\n",
       "      <td>0.250</td>\n",
       "      <td>8665.764845</td>\n",
       "    </tr>\n",
       "    <tr>\n",
       "      <th>28</th>\n",
       "      <td>2021-04-19</td>\n",
       "      <td>1 wk ahead inc case</td>\n",
       "      <td>2021-04-24</td>\n",
       "      <td>CH</td>\n",
       "      <td>quantile</td>\n",
       "      <td>0.500</td>\n",
       "      <td>8722.640537</td>\n",
       "    </tr>\n",
       "    <tr>\n",
       "      <th>29</th>\n",
       "      <td>2021-04-19</td>\n",
       "      <td>1 wk ahead inc case</td>\n",
       "      <td>2021-04-24</td>\n",
       "      <td>CH</td>\n",
       "      <td>quantile</td>\n",
       "      <td>0.750</td>\n",
       "      <td>8779.516228</td>\n",
       "    </tr>\n",
       "    <tr>\n",
       "      <th>...</th>\n",
       "      <td>...</td>\n",
       "      <td>...</td>\n",
       "      <td>...</td>\n",
       "      <td>...</td>\n",
       "      <td>...</td>\n",
       "      <td>...</td>\n",
       "      <td>...</td>\n",
       "    </tr>\n",
       "    <tr>\n",
       "      <th>226</th>\n",
       "      <td>2021-04-19</td>\n",
       "      <td>1 wk ahead inc case</td>\n",
       "      <td>2021-04-24</td>\n",
       "      <td>RO</td>\n",
       "      <td>quantile</td>\n",
       "      <td>0.100</td>\n",
       "      <td>30346.621455</td>\n",
       "    </tr>\n",
       "    <tr>\n",
       "      <th>227</th>\n",
       "      <td>2021-04-19</td>\n",
       "      <td>1 wk ahead inc case</td>\n",
       "      <td>2021-04-24</td>\n",
       "      <td>RO</td>\n",
       "      <td>quantile</td>\n",
       "      <td>0.250</td>\n",
       "      <td>33419.591451</td>\n",
       "    </tr>\n",
       "    <tr>\n",
       "      <th>228</th>\n",
       "      <td>2021-04-19</td>\n",
       "      <td>1 wk ahead inc case</td>\n",
       "      <td>2021-04-24</td>\n",
       "      <td>RO</td>\n",
       "      <td>quantile</td>\n",
       "      <td>0.500</td>\n",
       "      <td>36833.884217</td>\n",
       "    </tr>\n",
       "    <tr>\n",
       "      <th>229</th>\n",
       "      <td>2021-04-19</td>\n",
       "      <td>1 wk ahead inc case</td>\n",
       "      <td>2021-04-24</td>\n",
       "      <td>RO</td>\n",
       "      <td>quantile</td>\n",
       "      <td>0.750</td>\n",
       "      <td>40248.176983</td>\n",
       "    </tr>\n",
       "    <tr>\n",
       "      <th>230</th>\n",
       "      <td>2021-04-19</td>\n",
       "      <td>1 wk ahead inc case</td>\n",
       "      <td>2021-04-24</td>\n",
       "      <td>RO</td>\n",
       "      <td>quantile</td>\n",
       "      <td>0.900</td>\n",
       "      <td>43321.146979</td>\n",
       "    </tr>\n",
       "    <tr>\n",
       "      <th>231</th>\n",
       "      <td>2021-04-19</td>\n",
       "      <td>1 wk ahead inc case</td>\n",
       "      <td>2021-04-24</td>\n",
       "      <td>RO</td>\n",
       "      <td>quantile</td>\n",
       "      <td>0.975</td>\n",
       "      <td>46755.296444</td>\n",
       "    </tr>\n",
       "    <tr>\n",
       "      <th>232</th>\n",
       "      <td>2021-04-19</td>\n",
       "      <td>1 wk ahead inc case</td>\n",
       "      <td>2021-04-24</td>\n",
       "      <td>SE</td>\n",
       "      <td>point</td>\n",
       "      <td>NaN</td>\n",
       "      <td>32372.764668</td>\n",
       "    </tr>\n",
       "    <tr>\n",
       "      <th>233</th>\n",
       "      <td>2021-04-19</td>\n",
       "      <td>1 wk ahead inc case</td>\n",
       "      <td>2021-04-24</td>\n",
       "      <td>SE</td>\n",
       "      <td>quantile</td>\n",
       "      <td>0.025</td>\n",
       "      <td>23590.942706</td>\n",
       "    </tr>\n",
       "    <tr>\n",
       "      <th>234</th>\n",
       "      <td>2021-04-19</td>\n",
       "      <td>1 wk ahead inc case</td>\n",
       "      <td>2021-04-24</td>\n",
       "      <td>SE</td>\n",
       "      <td>quantile</td>\n",
       "      <td>0.100</td>\n",
       "      <td>26630.639929</td>\n",
       "    </tr>\n",
       "    <tr>\n",
       "      <th>235</th>\n",
       "      <td>2021-04-19</td>\n",
       "      <td>1 wk ahead inc case</td>\n",
       "      <td>2021-04-24</td>\n",
       "      <td>SE</td>\n",
       "      <td>quantile</td>\n",
       "      <td>0.250</td>\n",
       "      <td>29350.643370</td>\n",
       "    </tr>\n",
       "    <tr>\n",
       "      <th>236</th>\n",
       "      <td>2021-04-19</td>\n",
       "      <td>1 wk ahead inc case</td>\n",
       "      <td>2021-04-24</td>\n",
       "      <td>SE</td>\n",
       "      <td>quantile</td>\n",
       "      <td>0.500</td>\n",
       "      <td>32372.764668</td>\n",
       "    </tr>\n",
       "    <tr>\n",
       "      <th>237</th>\n",
       "      <td>2021-04-19</td>\n",
       "      <td>1 wk ahead inc case</td>\n",
       "      <td>2021-04-24</td>\n",
       "      <td>SE</td>\n",
       "      <td>quantile</td>\n",
       "      <td>0.750</td>\n",
       "      <td>35394.885966</td>\n",
       "    </tr>\n",
       "    <tr>\n",
       "      <th>238</th>\n",
       "      <td>2021-04-19</td>\n",
       "      <td>1 wk ahead inc case</td>\n",
       "      <td>2021-04-24</td>\n",
       "      <td>SE</td>\n",
       "      <td>quantile</td>\n",
       "      <td>0.900</td>\n",
       "      <td>38114.889407</td>\n",
       "    </tr>\n",
       "    <tr>\n",
       "      <th>239</th>\n",
       "      <td>2021-04-19</td>\n",
       "      <td>1 wk ahead inc case</td>\n",
       "      <td>2021-04-24</td>\n",
       "      <td>SE</td>\n",
       "      <td>quantile</td>\n",
       "      <td>0.975</td>\n",
       "      <td>41154.586629</td>\n",
       "    </tr>\n",
       "    <tr>\n",
       "      <th>240</th>\n",
       "      <td>2021-04-19</td>\n",
       "      <td>1 wk ahead inc case</td>\n",
       "      <td>2021-04-24</td>\n",
       "      <td>SI</td>\n",
       "      <td>point</td>\n",
       "      <td>NaN</td>\n",
       "      <td>5722.611191</td>\n",
       "    </tr>\n",
       "    <tr>\n",
       "      <th>241</th>\n",
       "      <td>2021-04-19</td>\n",
       "      <td>1 wk ahead inc case</td>\n",
       "      <td>2021-04-24</td>\n",
       "      <td>SI</td>\n",
       "      <td>quantile</td>\n",
       "      <td>0.025</td>\n",
       "      <td>5609.126225</td>\n",
       "    </tr>\n",
       "    <tr>\n",
       "      <th>242</th>\n",
       "      <td>2021-04-19</td>\n",
       "      <td>1 wk ahead inc case</td>\n",
       "      <td>2021-04-24</td>\n",
       "      <td>SI</td>\n",
       "      <td>quantile</td>\n",
       "      <td>0.100</td>\n",
       "      <td>5648.407360</td>\n",
       "    </tr>\n",
       "    <tr>\n",
       "      <th>243</th>\n",
       "      <td>2021-04-19</td>\n",
       "      <td>1 wk ahead inc case</td>\n",
       "      <td>2021-04-24</td>\n",
       "      <td>SI</td>\n",
       "      <td>quantile</td>\n",
       "      <td>0.250</td>\n",
       "      <td>5683.557185</td>\n",
       "    </tr>\n",
       "    <tr>\n",
       "      <th>244</th>\n",
       "      <td>2021-04-19</td>\n",
       "      <td>1 wk ahead inc case</td>\n",
       "      <td>2021-04-24</td>\n",
       "      <td>SI</td>\n",
       "      <td>quantile</td>\n",
       "      <td>0.500</td>\n",
       "      <td>5722.611191</td>\n",
       "    </tr>\n",
       "    <tr>\n",
       "      <th>245</th>\n",
       "      <td>2021-04-19</td>\n",
       "      <td>1 wk ahead inc case</td>\n",
       "      <td>2021-04-24</td>\n",
       "      <td>SI</td>\n",
       "      <td>quantile</td>\n",
       "      <td>0.750</td>\n",
       "      <td>5761.665198</td>\n",
       "    </tr>\n",
       "    <tr>\n",
       "      <th>246</th>\n",
       "      <td>2021-04-19</td>\n",
       "      <td>1 wk ahead inc case</td>\n",
       "      <td>2021-04-24</td>\n",
       "      <td>SI</td>\n",
       "      <td>quantile</td>\n",
       "      <td>0.900</td>\n",
       "      <td>5796.815022</td>\n",
       "    </tr>\n",
       "    <tr>\n",
       "      <th>247</th>\n",
       "      <td>2021-04-19</td>\n",
       "      <td>1 wk ahead inc case</td>\n",
       "      <td>2021-04-24</td>\n",
       "      <td>SI</td>\n",
       "      <td>quantile</td>\n",
       "      <td>0.975</td>\n",
       "      <td>5836.096158</td>\n",
       "    </tr>\n",
       "    <tr>\n",
       "      <th>248</th>\n",
       "      <td>2021-04-19</td>\n",
       "      <td>1 wk ahead inc case</td>\n",
       "      <td>2021-04-24</td>\n",
       "      <td>SK</td>\n",
       "      <td>point</td>\n",
       "      <td>NaN</td>\n",
       "      <td>11552.601091</td>\n",
       "    </tr>\n",
       "    <tr>\n",
       "      <th>249</th>\n",
       "      <td>2021-04-19</td>\n",
       "      <td>1 wk ahead inc case</td>\n",
       "      <td>2021-04-24</td>\n",
       "      <td>SK</td>\n",
       "      <td>quantile</td>\n",
       "      <td>0.025</td>\n",
       "      <td>9366.230141</td>\n",
       "    </tr>\n",
       "    <tr>\n",
       "      <th>250</th>\n",
       "      <td>2021-04-19</td>\n",
       "      <td>1 wk ahead inc case</td>\n",
       "      <td>2021-04-24</td>\n",
       "      <td>SK</td>\n",
       "      <td>quantile</td>\n",
       "      <td>0.100</td>\n",
       "      <td>10123.009968</td>\n",
       "    </tr>\n",
       "    <tr>\n",
       "      <th>251</th>\n",
       "      <td>2021-04-19</td>\n",
       "      <td>1 wk ahead inc case</td>\n",
       "      <td>2021-04-24</td>\n",
       "      <td>SK</td>\n",
       "      <td>quantile</td>\n",
       "      <td>0.250</td>\n",
       "      <td>10800.197064</td>\n",
       "    </tr>\n",
       "    <tr>\n",
       "      <th>252</th>\n",
       "      <td>2021-04-19</td>\n",
       "      <td>1 wk ahead inc case</td>\n",
       "      <td>2021-04-24</td>\n",
       "      <td>SK</td>\n",
       "      <td>quantile</td>\n",
       "      <td>0.500</td>\n",
       "      <td>11552.601091</td>\n",
       "    </tr>\n",
       "    <tr>\n",
       "      <th>253</th>\n",
       "      <td>2021-04-19</td>\n",
       "      <td>1 wk ahead inc case</td>\n",
       "      <td>2021-04-24</td>\n",
       "      <td>SK</td>\n",
       "      <td>quantile</td>\n",
       "      <td>0.750</td>\n",
       "      <td>12305.005119</td>\n",
       "    </tr>\n",
       "    <tr>\n",
       "      <th>254</th>\n",
       "      <td>2021-04-19</td>\n",
       "      <td>1 wk ahead inc case</td>\n",
       "      <td>2021-04-24</td>\n",
       "      <td>SK</td>\n",
       "      <td>quantile</td>\n",
       "      <td>0.900</td>\n",
       "      <td>12982.192215</td>\n",
       "    </tr>\n",
       "    <tr>\n",
       "      <th>255</th>\n",
       "      <td>2021-04-19</td>\n",
       "      <td>1 wk ahead inc case</td>\n",
       "      <td>2021-04-24</td>\n",
       "      <td>SK</td>\n",
       "      <td>quantile</td>\n",
       "      <td>0.975</td>\n",
       "      <td>13738.972042</td>\n",
       "    </tr>\n",
       "  </tbody>\n",
       "</table>\n",
       "<p>256 rows × 7 columns</p>\n",
       "</div>"
      ],
      "text/plain": [
       "    forecast_date               target target_end_date location      type  \\\n",
       "0      2021-04-19  1 wk ahead inc case      2021-04-24       AT     point   \n",
       "1      2021-04-19  1 wk ahead inc case      2021-04-24       AT  quantile   \n",
       "2      2021-04-19  1 wk ahead inc case      2021-04-24       AT  quantile   \n",
       "3      2021-04-19  1 wk ahead inc case      2021-04-24       AT  quantile   \n",
       "4      2021-04-19  1 wk ahead inc case      2021-04-24       AT  quantile   \n",
       "..            ...                  ...             ...      ...       ...   \n",
       "251    2021-04-19  1 wk ahead inc case      2021-04-24       SK  quantile   \n",
       "252    2021-04-19  1 wk ahead inc case      2021-04-24       SK  quantile   \n",
       "253    2021-04-19  1 wk ahead inc case      2021-04-24       SK  quantile   \n",
       "254    2021-04-19  1 wk ahead inc case      2021-04-24       SK  quantile   \n",
       "255    2021-04-19  1 wk ahead inc case      2021-04-24       SK  quantile   \n",
       "\n",
       "     quantile         value  \n",
       "0         NaN  22708.147121  \n",
       "1       0.025  15719.688409  \n",
       "2       0.100  18138.639582  \n",
       "3       0.250  20303.182638  \n",
       "4       0.500  22708.147121  \n",
       "..        ...           ...  \n",
       "251     0.250  10800.197064  \n",
       "252     0.500  11552.601091  \n",
       "253     0.750  12305.005119  \n",
       "254     0.900  12982.192215  \n",
       "255     0.975  13738.972042  \n",
       "\n",
       "[256 rows x 7 columns]"
      ]
     },
     "execution_count": 35,
     "metadata": {},
     "output_type": "execute_result"
    }
   ],
   "source": [
    "df"
   ]
  },
  {
   "cell_type": "code",
   "execution_count": null,
   "metadata": {},
   "outputs": [],
   "source": [
    "c(0.01, 0.025, seq(0.05, 0.95, by = 0.05), 0.975, 0.99)"
   ]
  },
  {
   "cell_type": "code",
   "execution_count": 79,
   "metadata": {},
   "outputs": [],
   "source": [
    "x=np.array([0.01, 0.025, np.arange(0.05,0.95,0.05),.975,.99])"
   ]
  },
  {
   "cell_type": "code",
   "execution_count": null,
   "metadata": {},
   "outputs": [
    {
     "name": "stderr",
     "output_type": "stream",
     "text": [
      "ERROR:root:Invalid alias: The name clear can't be aliased because it is another magic command.\n",
      "ERROR:root:Invalid alias: The name more can't be aliased because it is another magic command.\n",
      "ERROR:root:Invalid alias: The name less can't be aliased because it is another magic command.\n",
      "ERROR:root:Invalid alias: The name man can't be aliased because it is another magic command.\n"
     ]
    }
   ],
   "source": [
    "x=np.append(np.array([0.01, 0.025]),np.arange(0.05,0.955,0.05))\n",
    "np.append(x,np.array([0.975, 0.99]))"
   ]
  },
  {
   "cell_type": "code",
   "execution_count": 11,
   "metadata": {},
   "outputs": [],
   "source": []
  },
  {
   "cell_type": "code",
   "execution_count": 13,
   "metadata": {},
   "outputs": [
    {
     "data": {
      "text/plain": [
       "([3.0, 5.0, 7.0, 9.0],\n",
       " [3.0, 4.0, 5.0, 6.0, 7.0, 8.0, 9.0, 10.0, 11.0, 12.0, 13.0, 14.0],\n",
       " [7.0],\n",
       " ['2020-08-11',\n",
       "  '2020-08-18',\n",
       "  '2020-08-25',\n",
       "  '2020-09-01',\n",
       "  '2020-09-08',\n",
       "  '2020-09-15',\n",
       "  '2020-09-22',\n",
       "  '2020-09-29',\n",
       "  '2020-10-06',\n",
       "  '2020-10-13',\n",
       "  '2020-10-20',\n",
       "  '2020-10-27',\n",
       "  '2020-11-03',\n",
       "  '2020-11-10'],\n",
       " [1.0, 0.5, 2.0])"
      ]
     },
     "execution_count": 13,
     "metadata": {},
     "output_type": "execute_result"
    }
   ],
   "source": [
    "incub_list,recov_list,delay_list,dsgn_dates,scen_list"
   ]
  },
  {
   "cell_type": "code",
   "execution_count": 60,
   "metadata": {},
   "outputs": [],
   "source": [
    "indir='../output/design/'"
   ]
  },
  {
   "cell_type": "code",
   "execution_count": 59,
   "metadata": {},
   "outputs": [
    {
     "data": {
      "text/plain": [
       "2304"
      ]
     },
     "execution_count": 59,
     "metadata": {},
     "output_type": "execute_result"
    }
   ],
   "source": [
    "64*12*3"
   ]
  },
  {
   "cell_type": "code",
   "execution_count": 16,
   "metadata": {},
   "outputs": [],
   "source": [
    "sdf=pd.DataFrame()\n",
    "i=0\n",
    "for obsdt in dsgn_dates:\n",
    "    for scen in scen_list:\n",
    "        for incub in incub_list:\n",
    "            for recov in recov_list:\n",
    "                for delay in delay_list:\n",
    "                    i+=1\n",
    "#                     sdf=sdf.append(pd.read_csv'../output/design/univ_pred_{}_{}_{}_{}_{}_{}.csv'.format('UVA', obsdt, scen, incub, recov, delay),sort=True)"
   ]
  },
  {
   "cell_type": "code",
   "execution_count": null,
   "metadata": {},
   "outputs": [],
   "source": []
  },
  {
   "cell_type": "code",
   "execution_count": 20,
   "metadata": {},
   "outputs": [
    {
     "data": {
      "text/plain": [
       "'/sfs/qumulo/qproject/biocomplexity/aniadiga/gits/google_mobility_v2/regression'"
      ]
     },
     "execution_count": 20,
     "metadata": {},
     "output_type": "execute_result"
    }
   ],
   "source": [
    "pwd"
   ]
  },
  {
   "cell_type": "code",
   "execution_count": null,
   "metadata": {},
   "outputs": [],
   "source": []
  }
 ],
 "metadata": {
  "kernelspec": {
   "display_name": "Python [conda env:fct]",
   "language": "python",
   "name": "conda-env-fct-py"
  },
  "language_info": {
   "codemirror_mode": {
    "name": "ipython",
    "version": 3
   },
   "file_extension": ".py",
   "mimetype": "text/x-python",
   "name": "python",
   "nbconvert_exporter": "python",
   "pygments_lexer": "ipython3",
   "version": "3.6.8"
  }
 },
 "nbformat": 4,
 "nbformat_minor": 4
}
